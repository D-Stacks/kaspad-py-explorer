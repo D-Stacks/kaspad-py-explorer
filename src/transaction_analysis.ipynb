{
 "cells": [
  {
   "cell_type": "markdown",
   "id": "73357920-93d6-4857-a59f-70a4bf922fb0",
   "metadata": {},
   "source": [
    "# Get Blocks and Transactions"
   ]
  },
  {
   "cell_type": "code",
   "execution_count": 1,
   "id": "bf66ee70-1fa7-45ea-a34d-b279b9e1457c",
   "metadata": {},
   "outputs": [],
   "source": [
    "import os\n",
    "import numpy as np\n",
    "import pandas as pd\n",
    "import matplotlib.pyplot as plt\n",
    "from store import *"
   ]
  },
  {
   "cell_type": "code",
   "execution_count": 2,
   "id": "357ee767-86e9-410f-b8fe-1b1d5098b194",
   "metadata": {},
   "outputs": [],
   "source": [
    "import plyvel\n",
    "import dbobjects_pb2 as KaspadDB\n",
    "\n",
    "import kbech32"
   ]
  },
  {
   "cell_type": "code",
   "execution_count": 3,
   "id": "d81b71bc-3a8e-4828-aa12-798284d0e847",
   "metadata": {},
   "outputs": [],
   "source": [
    "import hashlib\n",
    "import struct\n",
    "\n",
    "def transactionId(t):\n",
    "    hasher = hashlib.blake2b(digest_size=32, key=b\"TransactionID\")\n",
    "    hasher.update(struct.pack(f\"<HQ\", t.version, len(t.inputs)))\n",
    "    for ti in t.inputs:\n",
    "        hasher.update(ti.previousOutpoint.transactionID.transactionId)\n",
    "        hasher.update(struct.pack(f\"<IQQ\", ti.previousOutpoint.index, 0, ti.sequence))\n",
    "\n",
    "    hasher.update(struct.pack(f\"<Q\", len(t.outputs)))\n",
    "    for to in t.outputs:\n",
    "        hasher.update(struct.pack(f\"<QHQ\", to.value, to.scriptPublicKey.version, len(to.scriptPublicKey.script)))\n",
    "        hasher.update(to.scriptPublicKey.script)\n",
    "        \n",
    "    hasher.update(struct.pack(f\"<Q\", t.lockTime))\n",
    "    hasher.update(t.subnetworkID.subnetworkId)\n",
    "    hasher.update(struct.pack(f\"<QQ\", t.gas, len(t.payload)))\n",
    "    hasher.update(t.payload)\n",
    "    return hasher.digest()"
   ]
  },
  {
   "cell_type": "code",
   "execution_count": 28,
   "id": "dd6674d9-b884-4016-90c9-958f169bc0c8",
   "metadata": {},
   "outputs": [],
   "source": [
    "db = plyvel.DB(\"/media/tmrlvi/Transcend/kaspad-data/kaspa-mainnet/datadir2/\")\n",
    "prefix = db.get(b\"active-prefix\")"
   ]
  },
  {
   "cell_type": "code",
   "execution_count": 72,
   "id": "d64cb57f-acfb-4440-ad83-9e0b4c573ca0",
   "metadata": {},
   "outputs": [],
   "source": [
    "db.close()"
   ]
  },
  {
   "cell_type": "code",
   "execution_count": 29,
   "id": "686645cf-e1fb-4a6a-aade-81eae17231da",
   "metadata": {},
   "outputs": [],
   "source": [
    "blocks = db.prefixed_db(prefix + b\"/blocks/\")\n",
    "accepted = db.prefixed_db(prefix + b\"/acceptance-data/\")"
   ]
  },
  {
   "cell_type": "code",
   "execution_count": 30,
   "id": "59d2ca73-fdf4-43d4-b2a4-65d8b02e4071",
   "metadata": {},
   "outputs": [],
   "source": [
    "blocksMetadata = {}\n",
    "for hash_, block_ in blocks.iterator():\n",
    "    b = KaspadDB.DbBlock()\n",
    "    b.ParseFromString(block_)\n",
    "    blocksMetadata[hash_] = {\"timestamp\": b.header.timeInMilliseconds}"
   ]
  },
  {
   "cell_type": "markdown",
   "id": "79ccfdf6-143a-4b1e-85cb-3a263462e6cc",
   "metadata": {},
   "source": [
    "### Get KASPA values from accepted transactions"
   ]
  },
  {
   "cell_type": "code",
   "execution_count": 44,
   "id": "d6b8a2a7-d645-4a07-a5e9-2934188a1d88",
   "metadata": {},
   "outputs": [],
   "source": [
    "valuePassed = {}\n",
    "mined = {}\n",
    "minedStart = {}\n",
    "minedEnd = {}\n",
    "\n",
    "for hash_, block_ in accepted.iterator():\n",
    "    acpt = KaspadDB.DbAcceptanceData()\n",
    "    acpt.ParseFromString(block_)\n",
    "    for b in acpt.blockAcceptanceData:\n",
    "        for tacpt in b.transactionAcceptanceData:\n",
    "            if tacpt.isAccepted:\n",
    "                t = tacpt.transaction\n",
    "                tid = transactionId(t)\n",
    "                for i, to in enumerate(t.outputs):\n",
    "                    address = kbech32.toAddress(to.scriptPublicKey.script)\n",
    "                    valuePassed[address] = valuePassed.get(address,0) + to.value\n",
    "                    if len(t.inputs) == 0:\n",
    "                        mined[address] = mined.get(address,0) + to.value\n",
    "                        minedStart[address] = min(minedStart.get(address, float(\"inf\")), blocksMetadata[b.blockHash.hash][\"timestamp\"])\n",
    "                        minedEnd[address] = max(minedEnd.get(address, float(\"-inf\")), blocksMetadata[b.blockHash.hash][\"timestamp\"])"
   ]
  },
  {
   "cell_type": "markdown",
   "id": "d25217a3-daa2-4dbf-8d21-14f667c8353b",
   "metadata": {},
   "source": [
    "### Map outputs to addresses"
   ]
  },
  {
   "cell_type": "code",
   "execution_count": 45,
   "id": "26108f01-a8a4-484b-8d43-feec1dd00c3f",
   "metadata": {},
   "outputs": [],
   "source": [
    "outputToAddress = {}\n",
    "\n",
    "for hash_, block_ in blocks.iterator():\n",
    "    b = KaspadDB.DbBlock()\n",
    "    b.ParseFromString(block_)\n",
    "    for t in b.transactions:\n",
    "        tid = transactionId(t)\n",
    "        for i, to in enumerate(t.outputs):\n",
    "            address = kbech32.toAddress(to.scriptPublicKey.script)\n",
    "            outputToAddress[(tid, i)] = address"
   ]
  },
  {
   "cell_type": "markdown",
   "id": "a268c662-1fa3-41df-8135-af6d9e6b6096",
   "metadata": {},
   "source": [
    "### Match inputs to addresses"
   ]
  },
  {
   "cell_type": "code",
   "execution_count": 46,
   "id": "428a27c8-d915-4e43-9362-573d60de0ffd",
   "metadata": {},
   "outputs": [],
   "source": [
    "groups = {}\n",
    "\n",
    "for hash_, block_ in blocks.iterator():\n",
    "    b = KaspadDB.DbBlock()\n",
    "    b.ParseFromString(block_)\n",
    "    for t in b.transactions:\n",
    "        # Get all addresses\n",
    "        addresses = list(set(\n",
    "            outputToAddress[(ti.previousOutpoint.transactionID.transactionId, ti.previousOutpoint.index)]\n",
    "            for ti in t.inputs if (ti.previousOutpoint.transactionID.transactionId, ti.previousOutpoint.index) in outputToAddress\n",
    "        ))\n",
    "        # Calculate the united group\n",
    "        group = set()\n",
    "        for addr in addresses:\n",
    "            group |= groups.get(addr, set([addr]))\n",
    "        # Save group info\n",
    "        for addr in group:\n",
    "            groups[addr] = group"
   ]
  },
  {
   "cell_type": "markdown",
   "id": "69395df1-59c0-4fbf-acfc-e785951f2ad7",
   "metadata": {},
   "source": [
    "### Save all in a dataframe"
   ]
  },
  {
   "cell_type": "code",
   "execution_count": 47,
   "id": "979f2635-97b0-4c84-96a1-c2ff4aad7624",
   "metadata": {},
   "outputs": [],
   "source": [
    "df = pd.DataFrame([ {\n",
    "    \"address\": addr, \"group\": i, \"value\": valuePassed.get(addr, np.nan)/100000000., \"mined\": mined.get(addr, np.nan)/100000000.,\n",
    "    \"mineStarted\": minedStart.get(addr, None),\"mineEnded\": minedEnd.get(addr, None)\n",
    "} for i,g in enumerate(set(map(frozenset, groups.values()))) for addr in g])"
   ]
  },
  {
   "cell_type": "code",
   "execution_count": 66,
   "id": "e1f46a02-2d29-4ece-9c57-1bd4f07a10a5",
   "metadata": {},
   "outputs": [],
   "source": [
    "df[\"mineStarted\"] = pd.to_datetime(df[\"mineStarted\"], unit=\"ms\")\n",
    "df[\"mineEnded\"] = pd.to_datetime(df[\"mineEnded\"], unit=\"ms\")"
   ]
  },
  {
   "cell_type": "code",
   "execution_count": 67,
   "id": "d86d755d-770d-460f-a20c-2fed59b4b96b",
   "metadata": {},
   "outputs": [
    {
     "data": {
      "text/plain": [
       "<AxesSubplot:>"
      ]
     },
     "execution_count": 67,
     "metadata": {},
     "output_type": "execute_result"
    },
    {
     "data": {
      "application/vnd.jupyter.widget-view+json": {
       "model_id": "0651f1da13954cc7b4b40022197103b3",
       "version_major": 2,
       "version_minor": 0
      },
      "image/png": "[encoded data removed]",
      "text/html": [
       "\n",
       "            <div style=\"display: inline-block;\">\n",
       "                <div class=\"jupyter-widgets widget-label\" style=\"text-align: center;\">\n",
       "                    Figure\n",
       "                </div>\n",
       "                <img src='data:image/png;base64,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' width=640.0/>\n",
       "            </div>\n",
       "        "
      ],
      "text/plain": [
       "Canvas(toolbar=Toolbar(toolitems=[('Home', 'Reset original view', 'home', 'home'), ('Back', 'Back to previous …"
      ]
     },
     "metadata": {},
     "output_type": "display_data"
    }
   ],
   "source": [
    "%matplotlib widget\n",
    "df[df[\"mined\"] > 0].groupby(\"group\")[\"address\"].nunique().sort_values(ascending=False).reset_index(drop=True).plot(marker=\"o\", linestyle=\"\")"
   ]
  },
  {
   "cell_type": "code",
   "execution_count": 68,
   "id": "1420feb0-ea27-4b77-818d-6cf5464cefe1",
   "metadata": {},
   "outputs": [
    {
     "data": {
      "text/plain": [
       "group\n",
       "86        1\n",
       "3379      1\n",
       "3221      1\n",
       "3129      1\n",
       "2952      1\n",
       "2862      1\n",
       "2726      1\n",
       "2276      1\n",
       "2262      1\n",
       "2179      1\n",
       "1967      1\n",
       "3660      1\n",
       "1828      1\n",
       "1844      1\n",
       "1421      1\n",
       "1073      1\n",
       "1001      1\n",
       "967       1\n",
       "683       1\n",
       "350       1\n",
       "343       1\n",
       "1669      1\n",
       "3717      1\n",
       "2144      2\n",
       "1229      2\n",
       "490       3\n",
       "3352     10\n",
       "1547    100\n",
       "1173    100\n",
       "Name: address, dtype: int64"
      ]
     },
     "execution_count": 68,
     "metadata": {},
     "output_type": "execute_result"
    }
   ],
   "source": [
    "df[df[\"mined\"] >0 ].groupby(\"group\")[\"address\"].nunique().sort_values()"
   ]
  },
  {
   "cell_type": "code",
   "execution_count": 69,
   "id": "f6477b21-d0d3-4b15-907a-6c103ff5bd7b",
   "metadata": {},
   "outputs": [
    {
     "data": {
      "text/plain": [
       "79279520.7221682"
      ]
     },
     "execution_count": 69,
     "metadata": {},
     "output_type": "execute_result"
    }
   ],
   "source": [
    "df[\"mined\"].sum()"
   ]
  },
  {
   "cell_type": "code",
   "execution_count": 70,
   "id": "2585fb14-16b1-484d-a5f0-9d04aacb40b5",
   "metadata": {},
   "outputs": [
    {
     "data": {
      "text/html": [
       "<div>\n",
       "<style scoped>\n",
       "    .dataframe tbody tr th:only-of-type {\n",
       "        vertical-align: middle;\n",
       "    }\n",
       "\n",
       "    .dataframe tbody tr th {\n",
       "        vertical-align: top;\n",
       "    }\n",
       "\n",
       "    .dataframe thead th {\n",
       "        text-align: right;\n",
       "    }\n",
       "</style>\n",
       "<table border=\"1\" class=\"dataframe\">\n",
       "  <thead>\n",
       "    <tr style=\"text-align: right;\">\n",
       "      <th></th>\n",
       "      <th>mined</th>\n",
       "      <th>address</th>\n",
       "      <th>minedMils</th>\n",
       "    </tr>\n",
       "    <tr>\n",
       "      <th>group</th>\n",
       "      <th></th>\n",
       "      <th></th>\n",
       "      <th></th>\n",
       "    </tr>\n",
       "  </thead>\n",
       "  <tbody>\n",
       "    <tr>\n",
       "      <th>1547</th>\n",
       "      <td>4.379901e+07</td>\n",
       "      <td>100</td>\n",
       "      <td>43.799011</td>\n",
       "    </tr>\n",
       "    <tr>\n",
       "      <th>2262</th>\n",
       "      <td>1.786250e+07</td>\n",
       "      <td>1</td>\n",
       "      <td>17.862505</td>\n",
       "    </tr>\n",
       "    <tr>\n",
       "      <th>967</th>\n",
       "      <td>4.611001e+06</td>\n",
       "      <td>1</td>\n",
       "      <td>4.611001</td>\n",
       "    </tr>\n",
       "    <tr>\n",
       "      <th>3352</th>\n",
       "      <td>2.646000e+06</td>\n",
       "      <td>10</td>\n",
       "      <td>2.646000</td>\n",
       "    </tr>\n",
       "    <tr>\n",
       "      <th>683</th>\n",
       "      <td>1.768501e+06</td>\n",
       "      <td>1</td>\n",
       "      <td>1.768501</td>\n",
       "    </tr>\n",
       "    <tr>\n",
       "      <th>1967</th>\n",
       "      <td>1.610501e+06</td>\n",
       "      <td>1</td>\n",
       "      <td>1.610501</td>\n",
       "    </tr>\n",
       "    <tr>\n",
       "      <th>1669</th>\n",
       "      <td>1.067500e+06</td>\n",
       "      <td>1</td>\n",
       "      <td>1.067500</td>\n",
       "    </tr>\n",
       "    <tr>\n",
       "      <th>1173</th>\n",
       "      <td>8.625001e+05</td>\n",
       "      <td>100</td>\n",
       "      <td>0.862500</td>\n",
       "    </tr>\n",
       "    <tr>\n",
       "      <th>3221</th>\n",
       "      <td>7.165002e+05</td>\n",
       "      <td>1</td>\n",
       "      <td>0.716500</td>\n",
       "    </tr>\n",
       "    <tr>\n",
       "      <th>1229</th>\n",
       "      <td>6.970002e+05</td>\n",
       "      <td>2</td>\n",
       "      <td>0.697000</td>\n",
       "    </tr>\n",
       "    <tr>\n",
       "      <th>2862</th>\n",
       "      <td>6.190003e+05</td>\n",
       "      <td>1</td>\n",
       "      <td>0.619000</td>\n",
       "    </tr>\n",
       "    <tr>\n",
       "      <th>1844</th>\n",
       "      <td>4.045002e+05</td>\n",
       "      <td>1</td>\n",
       "      <td>0.404500</td>\n",
       "    </tr>\n",
       "    <tr>\n",
       "      <th>2952</th>\n",
       "      <td>3.760001e+05</td>\n",
       "      <td>1</td>\n",
       "      <td>0.376000</td>\n",
       "    </tr>\n",
       "    <tr>\n",
       "      <th>3660</th>\n",
       "      <td>3.310001e+05</td>\n",
       "      <td>1</td>\n",
       "      <td>0.331000</td>\n",
       "    </tr>\n",
       "    <tr>\n",
       "      <th>350</th>\n",
       "      <td>3.130001e+05</td>\n",
       "      <td>1</td>\n",
       "      <td>0.313000</td>\n",
       "    </tr>\n",
       "    <tr>\n",
       "      <th>1001</th>\n",
       "      <td>2.975001e+05</td>\n",
       "      <td>1</td>\n",
       "      <td>0.297500</td>\n",
       "    </tr>\n",
       "    <tr>\n",
       "      <th>2276</th>\n",
       "      <td>2.815001e+05</td>\n",
       "      <td>1</td>\n",
       "      <td>0.281500</td>\n",
       "    </tr>\n",
       "    <tr>\n",
       "      <th>1421</th>\n",
       "      <td>2.665002e+05</td>\n",
       "      <td>1</td>\n",
       "      <td>0.266500</td>\n",
       "    </tr>\n",
       "    <tr>\n",
       "      <th>2144</th>\n",
       "      <td>2.615001e+05</td>\n",
       "      <td>2</td>\n",
       "      <td>0.261500</td>\n",
       "    </tr>\n",
       "    <tr>\n",
       "      <th>3717</th>\n",
       "      <td>1.995000e+05</td>\n",
       "      <td>1</td>\n",
       "      <td>0.199500</td>\n",
       "    </tr>\n",
       "  </tbody>\n",
       "</table>\n",
       "</div>"
      ],
      "text/plain": [
       "              mined  address  minedMils\n",
       "group                                  \n",
       "1547   4.379901e+07      100  43.799011\n",
       "2262   1.786250e+07        1  17.862505\n",
       "967    4.611001e+06        1   4.611001\n",
       "3352   2.646000e+06       10   2.646000\n",
       "683    1.768501e+06        1   1.768501\n",
       "1967   1.610501e+06        1   1.610501\n",
       "1669   1.067500e+06        1   1.067500\n",
       "1173   8.625001e+05      100   0.862500\n",
       "3221   7.165002e+05        1   0.716500\n",
       "1229   6.970002e+05        2   0.697000\n",
       "2862   6.190003e+05        1   0.619000\n",
       "1844   4.045002e+05        1   0.404500\n",
       "2952   3.760001e+05        1   0.376000\n",
       "3660   3.310001e+05        1   0.331000\n",
       "350    3.130001e+05        1   0.313000\n",
       "1001   2.975001e+05        1   0.297500\n",
       "2276   2.815001e+05        1   0.281500\n",
       "1421   2.665002e+05        1   0.266500\n",
       "2144   2.615001e+05        2   0.261500\n",
       "3717   1.995000e+05        1   0.199500"
      ]
     },
     "execution_count": 70,
     "metadata": {},
     "output_type": "execute_result"
    }
   ],
   "source": [
    "df[df[\"mined\"] > 0].groupby(\"group\").agg({\"mined\": \"sum\", \"address\":\"nunique\"}).sort_values(\"mined\", ascending=False).assign(minedMils = lambda df: df[\"mined\"]/1000000).head(20)"
   ]
  },
  {
   "cell_type": "code",
   "execution_count": 71,
   "id": "b7fe8fa5-94ea-4ccd-b897-7bbf954f2719",
   "metadata": {},
   "outputs": [
    {
     "data": {
      "text/html": [
       "<div>\n",
       "<style scoped>\n",
       "    .dataframe tbody tr th:only-of-type {\n",
       "        vertical-align: middle;\n",
       "    }\n",
       "\n",
       "    .dataframe tbody tr th {\n",
       "        vertical-align: top;\n",
       "    }\n",
       "\n",
       "    .dataframe thead th {\n",
       "        text-align: right;\n",
       "    }\n",
       "</style>\n",
       "<table border=\"1\" class=\"dataframe\">\n",
       "  <thead>\n",
       "    <tr style=\"text-align: right;\">\n",
       "      <th></th>\n",
       "      <th>address</th>\n",
       "      <th>group</th>\n",
       "      <th>value</th>\n",
       "      <th>mined</th>\n",
       "      <th>mineStarted</th>\n",
       "      <th>mineEnded</th>\n",
       "    </tr>\n",
       "  </thead>\n",
       "  <tbody>\n",
       "    <tr>\n",
       "      <th>5142</th>\n",
       "      <td>kaspa:qzuc29622c9gtk8kc6xeh5mzvxdtpa327484l7dv...</td>\n",
       "      <td>1547</td>\n",
       "      <td>472500.065870</td>\n",
       "      <td>472500.065870</td>\n",
       "      <td>2022-01-31 14:24:49.091000064</td>\n",
       "      <td>2022-02-02 23:28:24.000000000</td>\n",
       "    </tr>\n",
       "    <tr>\n",
       "      <th>5584</th>\n",
       "      <td>kaspa:qzkv8s9h374e6gyg2qj5vpatwkxen5ezkj753qk3...</td>\n",
       "      <td>1547</td>\n",
       "      <td>471000.101121</td>\n",
       "      <td>471000.101121</td>\n",
       "      <td>2022-01-31 14:22:27.007000064</td>\n",
       "      <td>2022-02-02 23:26:03.583000064</td>\n",
       "    </tr>\n",
       "    <tr>\n",
       "      <th>8903</th>\n",
       "      <td>kaspa:qq86fpsrntmnnkfwxm6phg2su88y8yx4zv66ud38...</td>\n",
       "      <td>1547</td>\n",
       "      <td>465000.072500</td>\n",
       "      <td>465000.072500</td>\n",
       "      <td>2022-01-31 14:21:41.000000000</td>\n",
       "      <td>2022-02-02 23:26:02.000000000</td>\n",
       "    </tr>\n",
       "    <tr>\n",
       "      <th>8402</th>\n",
       "      <td>kaspa:qzu5qwm8vaptlnu0d42fh4vaadvw62fgz8a95hzw...</td>\n",
       "      <td>1547</td>\n",
       "      <td>464000.150755</td>\n",
       "      <td>464000.150755</td>\n",
       "      <td>2022-01-31 14:26:37.078000128</td>\n",
       "      <td>2022-02-02 23:27:25.255000064</td>\n",
       "    </tr>\n",
       "    <tr>\n",
       "      <th>9460</th>\n",
       "      <td>kaspa:qqa77evqyw4pn9kw64jc7wu2cqv3mwgvmmccs0fp...</td>\n",
       "      <td>1547</td>\n",
       "      <td>463500.084241</td>\n",
       "      <td>463500.084241</td>\n",
       "      <td>2022-01-31 14:21:56.000000000</td>\n",
       "      <td>2022-02-02 23:30:26.030000128</td>\n",
       "    </tr>\n",
       "    <tr>\n",
       "      <th>...</th>\n",
       "      <td>...</td>\n",
       "      <td>...</td>\n",
       "      <td>...</td>\n",
       "      <td>...</td>\n",
       "      <td>...</td>\n",
       "      <td>...</td>\n",
       "    </tr>\n",
       "    <tr>\n",
       "      <th>12604</th>\n",
       "      <td>kaspa:qqjalsskrwxz66hzgjnqrxsnh8qsjrupljpdw8f9...</td>\n",
       "      <td>1547</td>\n",
       "      <td>413000.093551</td>\n",
       "      <td>413000.093551</td>\n",
       "      <td>2022-01-31 14:32:27.344999936</td>\n",
       "      <td>2022-02-02 23:27:35.592999936</td>\n",
       "    </tr>\n",
       "    <tr>\n",
       "      <th>9145</th>\n",
       "      <td>kaspa:qr7kz8d5fxrh036cue75lakvm345lkkeyq8mc6uz...</td>\n",
       "      <td>1547</td>\n",
       "      <td>411500.127221</td>\n",
       "      <td>411500.127221</td>\n",
       "      <td>2022-01-31 14:31:21.556999936</td>\n",
       "      <td>2022-02-02 23:31:01.934000128</td>\n",
       "    </tr>\n",
       "    <tr>\n",
       "      <th>10046</th>\n",
       "      <td>kaspa:qqfhwmf70rzy4fntmgdsd588eqtqjc2eukj0sn8w...</td>\n",
       "      <td>1547</td>\n",
       "      <td>411500.087094</td>\n",
       "      <td>411500.087094</td>\n",
       "      <td>2022-01-31 14:25:18.380000000</td>\n",
       "      <td>2022-02-02 23:24:41.000000000</td>\n",
       "    </tr>\n",
       "    <tr>\n",
       "      <th>15211</th>\n",
       "      <td>kaspa:qzwxgguakfgp7tnjez97pczl2ymgwwuta6s32f64...</td>\n",
       "      <td>1547</td>\n",
       "      <td>410000.125400</td>\n",
       "      <td>410000.125400</td>\n",
       "      <td>2022-01-31 14:26:37.078000128</td>\n",
       "      <td>2022-02-02 23:30:47.939000064</td>\n",
       "    </tr>\n",
       "    <tr>\n",
       "      <th>14591</th>\n",
       "      <td>kaspa:qq6yl72sd4u8jtws6a6h35wsdtpw7wspp06ylk4e...</td>\n",
       "      <td>1547</td>\n",
       "      <td>394000.121932</td>\n",
       "      <td>394000.121932</td>\n",
       "      <td>2022-01-31 14:23:22.404000000</td>\n",
       "      <td>2022-02-02 23:30:11.420000000</td>\n",
       "    </tr>\n",
       "  </tbody>\n",
       "</table>\n",
       "<p>100 rows × 6 columns</p>\n",
       "</div>"
      ],
      "text/plain": [
       "                                                 address  group  \\\n",
       "5142   kaspa:qzuc29622c9gtk8kc6xeh5mzvxdtpa327484l7dv...   1547   \n",
       "5584   kaspa:qzkv8s9h374e6gyg2qj5vpatwkxen5ezkj753qk3...   1547   \n",
       "8903   kaspa:qq86fpsrntmnnkfwxm6phg2su88y8yx4zv66ud38...   1547   \n",
       "8402   kaspa:qzu5qwm8vaptlnu0d42fh4vaadvw62fgz8a95hzw...   1547   \n",
       "9460   kaspa:qqa77evqyw4pn9kw64jc7wu2cqv3mwgvmmccs0fp...   1547   \n",
       "...                                                  ...    ...   \n",
       "12604  kaspa:qqjalsskrwxz66hzgjnqrxsnh8qsjrupljpdw8f9...   1547   \n",
       "9145   kaspa:qr7kz8d5fxrh036cue75lakvm345lkkeyq8mc6uz...   1547   \n",
       "10046  kaspa:qqfhwmf70rzy4fntmgdsd588eqtqjc2eukj0sn8w...   1547   \n",
       "15211  kaspa:qzwxgguakfgp7tnjez97pczl2ymgwwuta6s32f64...   1547   \n",
       "14591  kaspa:qq6yl72sd4u8jtws6a6h35wsdtpw7wspp06ylk4e...   1547   \n",
       "\n",
       "               value          mined                   mineStarted  \\\n",
       "5142   472500.065870  472500.065870 2022-01-31 14:24:49.091000064   \n",
       "5584   471000.101121  471000.101121 2022-01-31 14:22:27.007000064   \n",
       "8903   465000.072500  465000.072500 2022-01-31 14:21:41.000000000   \n",
       "8402   464000.150755  464000.150755 2022-01-31 14:26:37.078000128   \n",
       "9460   463500.084241  463500.084241 2022-01-31 14:21:56.000000000   \n",
       "...              ...            ...                           ...   \n",
       "12604  413000.093551  413000.093551 2022-01-31 14:32:27.344999936   \n",
       "9145   411500.127221  411500.127221 2022-01-31 14:31:21.556999936   \n",
       "10046  411500.087094  411500.087094 2022-01-31 14:25:18.380000000   \n",
       "15211  410000.125400  410000.125400 2022-01-31 14:26:37.078000128   \n",
       "14591  394000.121932  394000.121932 2022-01-31 14:23:22.404000000   \n",
       "\n",
       "                          mineEnded  \n",
       "5142  2022-02-02 23:28:24.000000000  \n",
       "5584  2022-02-02 23:26:03.583000064  \n",
       "8903  2022-02-02 23:26:02.000000000  \n",
       "8402  2022-02-02 23:27:25.255000064  \n",
       "9460  2022-02-02 23:30:26.030000128  \n",
       "...                             ...  \n",
       "12604 2022-02-02 23:27:35.592999936  \n",
       "9145  2022-02-02 23:31:01.934000128  \n",
       "10046 2022-02-02 23:24:41.000000000  \n",
       "15211 2022-02-02 23:30:47.939000064  \n",
       "14591 2022-02-02 23:30:11.420000000  \n",
       "\n",
       "[100 rows x 6 columns]"
      ]
     },
     "execution_count": 71,
     "metadata": {},
     "output_type": "execute_result"
    }
   ],
   "source": [
    "df[(df[\"mined\"] > 0) & (df[\"group\"] == 1547)].sort_values(\"mined\", ascending=False)"
   ]
  },
  {
   "cell_type": "code",
   "execution_count": null,
   "id": "181c0912-2eef-4561-8b7c-753fcc5db41a",
   "metadata": {},
   "outputs": [],
   "source": []
  }
 ],
 "metadata": {
  "kernelspec": {
   "display_name": "kaspad-py-explorer",
   "language": "python",
   "name": "kaspad-py-explorer"
  },
  "language_info": {
   "codemirror_mode": {
    "name": "ipython",
    "version": 3
   },
   "file_extension": ".py",
   "mimetype": "text/x-python",
   "name": "python",
   "nbconvert_exporter": "python",
   "pygments_lexer": "ipython3",
   "version": "3.10.0"
  }
 },
 "nbformat": 4,
 "nbformat_minor": 5
}
