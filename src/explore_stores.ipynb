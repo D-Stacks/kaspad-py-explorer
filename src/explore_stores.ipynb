{
 "cells": [
  {
   "cell_type": "code",
   "execution_count": 1,
   "metadata": {},
   "outputs": [],
   "source": [
    "import plyvel\n",
    "import dbobjects_pb2 as KaspadDB\n",
    "from utils import *"
   ]
  },
  {
   "cell_type": "code",
   "execution_count": 8,
   "metadata": {},
   "outputs": [],
   "source": [
    "sep = b'/'\n",
    "level = (0).to_bytes(1, 'little')  # Default level for stores with block-level\n",
    "ghostdag_data_store = b'block-ghostdag-data'\n",
    "header_store = b'block-headers'\n",
    "header_count_key = b'block-headers-count'\n",
    "relations_store = b'block-relations'\n",
    "candidate_pruning_point_key = b'candidate-pruning-point-hash'\n",
    "pruning_block_index_key = b'pruning-block-index'\n",
    "pruning_by_index_store = b'pruning-point-by-index'"
   ]
  },
  {
   "cell_type": "code",
   "execution_count": 3,
   "metadata": {},
   "outputs": [],
   "source": [
    "db_path = r'D:\\kaspad-data\\datadir2-cp-23.12T00.30'\n",
    "db = plyvel.DB(db_path)\n",
    "prefix = db.get(b'active-prefix')"
   ]
  },
  {
   "cell_type": "code",
   "execution_count": 4,
   "metadata": {},
   "outputs": [],
   "source": [
    "# def hash_str(db_hash):\n",
    "#     return encode_hash(db_hash.hash)\n",
    "# KaspadDB.DbHash.__str__ = hash_str\n",
    "# KaspadDB.DbHash.__repr__ = hash_str"
   ]
  },
  {
   "cell_type": "code",
   "execution_count": 5,
   "metadata": {},
   "outputs": [
    {
     "data": {
      "text/plain": [
       "hash: \"\\367\\220\\226[\\377\\013D\\020\\214(\\343\\037\\332q\\361#jum!\\252\\373v\\345U\\002n\\212\\3479W\\000\""
      ]
     },
     "execution_count": 5,
     "metadata": {},
     "output_type": "execute_result"
    }
   ],
   "source": [
    "candidate_bytes = db.get(prefix + sep + candidate_pruning_point_key)\n",
    "cpp = KaspadDB.DbHash()\n",
    "cpp.ParseFromString(candidate_bytes)\n",
    "cpp"
   ]
  },
  {
   "cell_type": "code",
   "execution_count": 6,
   "metadata": {},
   "outputs": [
    {
     "data": {
      "text/plain": [
       "blueScore: 2104897\n",
       "blueWork: \"\\004\\006:\\032\\331\\246\\272\\275\"\n",
       "selectedParent {\n",
       "  hash: \"\\356Y\\274\\267\\371\\256\\035\\375d4L\\035\\332>\\366l\\254\\213\\000\\337\\236\\374G\\246zT\\377\\2010=\\3309\"\n",
       "}\n",
       "mergeSetBlues {\n",
       "  hash: \"\\356Y\\274\\267\\371\\256\\035\\375d4L\\035\\332>\\366l\\254\\213\\000\\337\\236\\374G\\246zT\\377\\2010=\\3309\"\n",
       "}\n",
       "mergeSetBlues {\n",
       "  hash: \"6\\375\\001=\\017\\307\\364\\306\\343X\\016\\215\\\"2d\\361\\362j\\005Q\\232\\357jO.\\304\\000j\\323/x\\376\"\n",
       "}\n",
       "bluesAnticoneSizes {\n",
       "  blueHash {\n",
       "    hash: \"\\356Y\\274\\267\\371\\256\\035\\375d4L\\035\\332>\\366l\\254\\213\\000\\337\\236\\374G\\246zT\\377\\2010=\\3309\"\n",
       "  }\n",
       "  anticoneSize: 1\n",
       "}\n",
       "bluesAnticoneSizes {\n",
       "  blueHash {\n",
       "    hash: \"6\\375\\001=\\017\\307\\364\\306\\343X\\016\\215\\\"2d\\361\\362j\\005Q\\232\\357jO.\\304\\000j\\323/x\\376\"\n",
       "  }\n",
       "  anticoneSize: 1\n",
       "}"
      ]
     },
     "execution_count": 6,
     "metadata": {},
     "output_type": "execute_result"
    }
   ],
   "source": [
    "ghostdag_data_bucket = prefix + sep + level + sep + ghostdag_data_store + sep\n",
    "ghostdag_data_bytes = db.get(ghostdag_data_bucket + cpp.hash)\n",
    "gdd = KaspadDB.DbBlockGhostdagData()\n",
    "gdd.ParseFromString(ghostdag_data_bytes)\n",
    "gdd"
   ]
  },
  {
   "cell_type": "code",
   "execution_count": 22,
   "metadata": {},
   "outputs": [
    {
     "data": {
      "text/plain": [
       "hash: \"-2$\\203b\\3263z\\300\\301S\\207\\032-L\\275\\243r4f\\232(\\340\\256_s\\235,\\226\\225K\\366\""
      ]
     },
     "execution_count": 22,
     "metadata": {},
     "output_type": "execute_result"
    }
   ],
   "source": [
    "pp_index_bytes = db.get(prefix + sep + pruning_block_index_key)\n",
    "pp_index = int.from_bytes(pp_index_bytes, 'little')\n",
    "pp_bytes = db.get(prefix + sep + pruning_by_index_store + sep + \n",
    "                  pp_index.to_bytes(8, 'big'))\n",
    "pp = KaspadDB.DbHash()\n",
    "pp.ParseFromString(pp_bytes)\n",
    "pp"
   ]
  },
  {
   "cell_type": "code",
   "execution_count": 23,
   "metadata": {},
   "outputs": [],
   "source": [
    "db.close()"
   ]
  },
  {
   "cell_type": "code",
   "execution_count": null,
   "metadata": {},
   "outputs": [],
   "source": []
  }
 ],
 "metadata": {
  "kernelspec": {
   "display_name": "Python 3",
   "language": "python",
   "name": "python3"
  },
  "language_info": {
   "codemirror_mode": {
    "name": "ipython",
    "version": 3
   },
   "file_extension": ".py",
   "mimetype": "text/x-python",
   "name": "python",
   "nbconvert_exporter": "python",
   "pygments_lexer": "ipython3",
   "version": "3.6.5"
  }
 },
 "nbformat": 4,
 "nbformat_minor": 2
}
