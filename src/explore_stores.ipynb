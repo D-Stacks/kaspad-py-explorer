{
 "cells": [
  {
   "cell_type": "code",
   "execution_count": 1,
   "metadata": {},
   "outputs": [],
   "source": [
    "import plyvel\n",
    "import dbobjects_pb2 as KaspadDB\n",
    "from utils import *"
   ]
  },
  {
   "cell_type": "code",
   "execution_count": 2,
   "metadata": {},
   "outputs": [],
   "source": [
    "sep = b'/'\n",
    "level = (0).to_bytes(1, 'little')  # Default level for stores with block-level\n",
    "ghostdag_data_store = b'block-ghostdag-data'\n",
    "header_store = b'block-headers'\n",
    "block_store = b'blocks'\n",
    "header_count_key = b'block-headers-count'\n",
    "block_count_key = b'blocks-count'\n",
    "relations_store = b'block-relations'\n",
    "candidate_pruning_point_key = b'candidate-pruning-point-hash'\n",
    "pruning_block_index_key = b'pruning-block-index'\n",
    "pruning_by_index_store = b'pruning-point-by-index'"
   ]
  },
  {
   "cell_type": "code",
   "execution_count": 3,
   "metadata": {},
   "outputs": [],
   "source": [
    "db_path = r'D:\\kaspad-data\\datadir2-cp-23.12T00.30'\n",
    "db = plyvel.DB(db_path)\n",
    "prefix = db.get(b'active-prefix')"
   ]
  },
  {
   "cell_type": "code",
   "execution_count": 4,
   "metadata": {},
   "outputs": [
    {
     "data": {
      "text/plain": [
       "hash: \"\\367\\220\\226[\\377\\013D\\020\\214(\\343\\037\\332q\\361#jum!\\252\\373v\\345U\\002n\\212\\3479W\\000\""
      ]
     },
     "execution_count": 4,
     "metadata": {},
     "output_type": "execute_result"
    }
   ],
   "source": [
    "candidate_bytes = db.get(prefix + sep + candidate_pruning_point_key)\n",
    "cpp = KaspadDB.DbHash()\n",
    "cpp.ParseFromString(candidate_bytes)\n",
    "cpp"
   ]
  },
  {
   "cell_type": "code",
   "execution_count": 5,
   "metadata": {},
   "outputs": [
    {
     "data": {
      "text/plain": [
       "blueScore: 2104897\n",
       "blueWork: \"\\004\\006:\\032\\331\\246\\272\\275\"\n",
       "selectedParent {\n",
       "  hash: \"\\356Y\\274\\267\\371\\256\\035\\375d4L\\035\\332>\\366l\\254\\213\\000\\337\\236\\374G\\246zT\\377\\2010=\\3309\"\n",
       "}\n",
       "mergeSetBlues {\n",
       "  hash: \"\\356Y\\274\\267\\371\\256\\035\\375d4L\\035\\332>\\366l\\254\\213\\000\\337\\236\\374G\\246zT\\377\\2010=\\3309\"\n",
       "}\n",
       "mergeSetBlues {\n",
       "  hash: \"6\\375\\001=\\017\\307\\364\\306\\343X\\016\\215\\\"2d\\361\\362j\\005Q\\232\\357jO.\\304\\000j\\323/x\\376\"\n",
       "}\n",
       "bluesAnticoneSizes {\n",
       "  blueHash {\n",
       "    hash: \"\\356Y\\274\\267\\371\\256\\035\\375d4L\\035\\332>\\366l\\254\\213\\000\\337\\236\\374G\\246zT\\377\\2010=\\3309\"\n",
       "  }\n",
       "  anticoneSize: 1\n",
       "}\n",
       "bluesAnticoneSizes {\n",
       "  blueHash {\n",
       "    hash: \"6\\375\\001=\\017\\307\\364\\306\\343X\\016\\215\\\"2d\\361\\362j\\005Q\\232\\357jO.\\304\\000j\\323/x\\376\"\n",
       "  }\n",
       "  anticoneSize: 1\n",
       "}"
      ]
     },
     "execution_count": 5,
     "metadata": {},
     "output_type": "execute_result"
    }
   ],
   "source": [
    "ghostdag_data_bucket = prefix + sep + level + sep + ghostdag_data_store + sep\n",
    "ghostdag_data_bytes = db.get(ghostdag_data_bucket + cpp.hash)\n",
    "gdd = KaspadDB.DbBlockGhostdagData()\n",
    "gdd.ParseFromString(ghostdag_data_bytes)\n",
    "gdd"
   ]
  },
  {
   "cell_type": "code",
   "execution_count": 6,
   "metadata": {},
   "outputs": [
    {
     "data": {
      "text/plain": [
       "hash: \"-2$\\203b\\3263z\\300\\301S\\207\\032-L\\275\\243r4f\\232(\\340\\256_s\\235,\\226\\225K\\366\""
      ]
     },
     "execution_count": 6,
     "metadata": {},
     "output_type": "execute_result"
    }
   ],
   "source": [
    "pp_index_bytes = db.get(prefix + sep + pruning_block_index_key)\n",
    "pp_index = int.from_bytes(pp_index_bytes, 'little')\n",
    "pp_bytes = db.get(prefix + sep + pruning_by_index_store + sep + \n",
    "                  pp_index.to_bytes(8, 'big'))\n",
    "pp = KaspadDB.DbHash()\n",
    "pp.ParseFromString(pp_bytes)\n",
    "pp"
   ]
  },
  {
   "cell_type": "code",
   "execution_count": 7,
   "metadata": {},
   "outputs": [],
   "source": [
    "# db.close()"
   ]
  },
  {
   "cell_type": "code",
   "execution_count": 30,
   "metadata": {},
   "outputs": [
    {
     "data": {
      "text/plain": [
       "(1640023894928,\n",
       " b'A\\x1e \\x00\\x00\\x00\\x00\\x00\\x00t;\\xa4\\x0b\\x00\\x00\\x00\\x00\\x00\" \\xf8\\xce0\\x977\\xdbo$\\xf5\\xd7q\\xec\\xe5\\x7f\\x1bZ\\xabP\\x06-3\\xf4\\x81@s 8o\\xb0\\xec\\xfd\\x1f\\xac',\n",
       " header {\n",
       "   parents {\n",
       "     parentHashes {\n",
       "       hash: \"\\356Y\\274\\267\\371\\256\\035\\375d4L\\035\\332>\\366l\\254\\213\\000\\337\\236\\374G\\246zT\\377\\2010=\\3309\"\n",
       "     }\n",
       "     parentHashes {\n",
       "       hash: \"6\\375\\001=\\017\\307\\364\\306\\343X\\016\\215\\\"2d\\361\\362j\\005Q\\232\\357jO.\\304\\000j\\323/x\\376\"\n",
       "     }\n",
       "   }\n",
       "   parents {\n",
       "     parentHashes {\n",
       "       hash: \"\\356Y\\274\\267\\371\\256\\035\\375d4L\\035\\332>\\366l\\254\\213\\000\\337\\236\\374G\\246zT\\377\\2010=\\3309\"\n",
       "     }\n",
       "     parentHashes {\n",
       "       hash: \"6\\375\\001=\\017\\307\\364\\306\\343X\\016\\215\\\"2d\\361\\362j\\005Q\\232\\357jO.\\304\\000j\\323/x\\376\"\n",
       "     }\n",
       "   }\n",
       "   parents {\n",
       "     parentHashes {\n",
       "       hash: \"\\356Y\\274\\267\\371\\256\\035\\375d4L\\035\\332>\\366l\\254\\213\\000\\337\\236\\374G\\246zT\\377\\2010=\\3309\"\n",
       "     }\n",
       "     parentHashes {\n",
       "       hash: \"6\\375\\001=\\017\\307\\364\\306\\343X\\016\\215\\\"2d\\361\\362j\\005Q\\232\\357jO.\\304\\000j\\323/x\\376\"\n",
       "     }\n",
       "   }\n",
       "   parents {\n",
       "     parentHashes {\n",
       "       hash: \"\\356Y\\274\\267\\371\\256\\035\\375d4L\\035\\332>\\366l\\254\\213\\000\\337\\236\\374G\\246zT\\377\\2010=\\3309\"\n",
       "     }\n",
       "     parentHashes {\n",
       "       hash: \"6\\375\\001=\\017\\307\\364\\306\\343X\\016\\215\\\"2d\\361\\362j\\005Q\\232\\357jO.\\304\\000j\\323/x\\376\"\n",
       "     }\n",
       "   }\n",
       "   parents {\n",
       "     parentHashes {\n",
       "       hash: \"\\356Y\\274\\267\\371\\256\\035\\375d4L\\035\\332>\\366l\\254\\213\\000\\337\\236\\374G\\246zT\\377\\2010=\\3309\"\n",
       "     }\n",
       "     parentHashes {\n",
       "       hash: \"6\\375\\001=\\017\\307\\364\\306\\343X\\016\\215\\\"2d\\361\\362j\\005Q\\232\\357jO.\\304\\000j\\323/x\\376\"\n",
       "     }\n",
       "   }\n",
       "   parents {\n",
       "     parentHashes {\n",
       "       hash: \"\\356Y\\274\\267\\371\\256\\035\\375d4L\\035\\332>\\366l\\254\\213\\000\\337\\236\\374G\\246zT\\377\\2010=\\3309\"\n",
       "     }\n",
       "     parentHashes {\n",
       "       hash: \"6\\375\\001=\\017\\307\\364\\306\\343X\\016\\215\\\"2d\\361\\362j\\005Q\\232\\357jO.\\304\\000j\\323/x\\376\"\n",
       "     }\n",
       "   }\n",
       "   parents {\n",
       "     parentHashes {\n",
       "       hash: \"\\356Y\\274\\267\\371\\256\\035\\375d4L\\035\\332>\\366l\\254\\213\\000\\337\\236\\374G\\246zT\\377\\2010=\\3309\"\n",
       "     }\n",
       "     parentHashes {\n",
       "       hash: \"6\\375\\001=\\017\\307\\364\\306\\343X\\016\\215\\\"2d\\361\\362j\\005Q\\232\\357jO.\\304\\000j\\323/x\\376\"\n",
       "     }\n",
       "   }\n",
       "   parents {\n",
       "     parentHashes {\n",
       "       hash: \"6\\375\\001=\\017\\307\\364\\306\\343X\\016\\215\\\"2d\\361\\362j\\005Q\\232\\357jO.\\304\\000j\\323/x\\376\"\n",
       "     }\n",
       "     parentHashes {\n",
       "       hash: \"\\356Y\\274\\267\\371\\256\\035\\375d4L\\035\\332>\\366l\\254\\213\\000\\337\\236\\374G\\246zT\\377\\2010=\\3309\"\n",
       "     }\n",
       "   }\n",
       "   parents {\n",
       "     parentHashes {\n",
       "       hash: \"6\\375\\001=\\017\\307\\364\\306\\343X\\016\\215\\\"2d\\361\\362j\\005Q\\232\\357jO.\\304\\000j\\323/x\\376\"\n",
       "     }\n",
       "   }\n",
       "   parents {\n",
       "     parentHashes {\n",
       "       hash: \"6\\375\\001=\\017\\307\\364\\306\\343X\\016\\215\\\"2d\\361\\362j\\005Q\\232\\357jO.\\304\\000j\\323/x\\376\"\n",
       "     }\n",
       "   }\n",
       "   parents {\n",
       "     parentHashes {\n",
       "       hash: \"\\264J\\331*\\316S\\321A\\355\\315\\006\\342\\241z\\005\\021&Wg\\336U\\316\\205\\244\\301\\004\\271t\\314C\\325\\264\"\n",
       "     }\n",
       "   }\n",
       "   parents {\n",
       "     parentHashes {\n",
       "       hash: \"\\264J\\331*\\316S\\321A\\355\\315\\006\\342\\241z\\005\\021&Wg\\336U\\316\\205\\244\\301\\004\\271t\\314C\\325\\264\"\n",
       "     }\n",
       "   }\n",
       "   parents {\n",
       "     parentHashes {\n",
       "       hash: \"\\351\\300\\374\\302\\177\\023\\253Y^\\344\\353j\\256\\224\\014\\337\\346/3\\260\\227<\\013\\234!\\334G#\\302\\343\\3134\"\n",
       "     }\n",
       "   }\n",
       "   parents {\n",
       "     parentHashes {\n",
       "       hash: \"\\351\\300\\374\\302\\177\\023\\253Y^\\344\\353j\\256\\224\\014\\337\\346/3\\260\\227<\\013\\234!\\334G#\\302\\343\\3134\"\n",
       "     }\n",
       "   }\n",
       "   parents {\n",
       "     parentHashes {\n",
       "       hash: \"\\351\\300\\374\\302\\177\\023\\253Y^\\344\\353j\\256\\224\\014\\337\\346/3\\260\\227<\\013\\234!\\334G#\\302\\343\\3134\"\n",
       "     }\n",
       "   }\n",
       "   parents {\n",
       "     parentHashes {\n",
       "       hash: \"\\351\\300\\374\\302\\177\\023\\253Y^\\344\\353j\\256\\224\\014\\337\\346/3\\260\\227<\\013\\234!\\334G#\\302\\343\\3134\"\n",
       "     }\n",
       "   }\n",
       "   parents {\n",
       "     parentHashes {\n",
       "       hash: \"\\351\\300\\374\\302\\177\\023\\253Y^\\344\\353j\\256\\224\\014\\337\\346/3\\260\\227<\\013\\234!\\334G#\\302\\343\\3134\"\n",
       "     }\n",
       "   }\n",
       "   parents {\n",
       "     parentHashes {\n",
       "       hash: \"\\351\\300\\374\\302\\177\\023\\253Y^\\344\\353j\\256\\224\\014\\337\\346/3\\260\\227<\\013\\234!\\334G#\\302\\343\\3134\"\n",
       "     }\n",
       "   }\n",
       "   parents {\n",
       "     parentHashes {\n",
       "       hash: \"\\351\\300\\374\\302\\177\\023\\253Y^\\344\\353j\\256\\224\\014\\337\\346/3\\260\\227<\\013\\234!\\334G#\\302\\343\\3134\"\n",
       "     }\n",
       "   }\n",
       "   parents {\n",
       "     parentHashes {\n",
       "       hash: \"\\351\\300\\374\\302\\177\\023\\253Y^\\344\\353j\\256\\224\\014\\337\\346/3\\260\\227<\\013\\234!\\334G#\\302\\343\\3134\"\n",
       "     }\n",
       "   }\n",
       "   parents {\n",
       "     parentHashes {\n",
       "       hash: \"k\\207\\244\\203qk\\201\\2749\\311Y\\t\\rw9I\\313u\\227\\314\\t\\rV\\356\\345\\257\\324\\2046\\2779\\343\"\n",
       "     }\n",
       "   }\n",
       "   parents {\n",
       "     parentHashes {\n",
       "       hash: \"\\214\\301/>K\\241\\207\\223\\213\\256q\\334>\\367\\253\\227g\\211U\\021\\364:}\\255F\\3731\\363J\\206\\311\\314\"\n",
       "     }\n",
       "   }\n",
       "   parents {\n",
       "     parentHashes {\n",
       "       hash: \"\\311\\276\\022\\261\\225\\337\\005z\\330\\n\\034\\340\\321\\205\\\\\\376\\267y\\202S\\221\\236B?wb\\250\\235,\\\"\\307*\"\n",
       "     }\n",
       "   }\n",
       "   parents {\n",
       "     parentHashes {\n",
       "       hash: \"\\311\\276\\022\\261\\225\\337\\005z\\330\\n\\034\\340\\321\\205\\\\\\376\\267y\\202S\\221\\236B?wb\\250\\235,\\\"\\307*\"\n",
       "     }\n",
       "   }\n",
       "   parents {\n",
       "     parentHashes {\n",
       "       hash: \"\\311\\276\\022\\261\\225\\337\\005z\\330\\n\\034\\340\\321\\205\\\\\\376\\267y\\202S\\221\\236B?wb\\250\\235,\\\"\\307*\"\n",
       "     }\n",
       "   }\n",
       "   parents {\n",
       "     parentHashes {\n",
       "       hash: \"\\311\\276\\022\\261\\225\\337\\005z\\330\\n\\034\\340\\321\\205\\\\\\376\\267y\\202S\\221\\236B?wb\\250\\235,\\\"\\307*\"\n",
       "     }\n",
       "   }\n",
       "   hashMerkleRoot {\n",
       "     hash: \"\\007\\264\\202\\323Q\\340\\253\\306T\\033@ol\\346 \\310M\\327_\\312\\226E;\\367\\346j\\253A\\002\\212g\\347\"\n",
       "   }\n",
       "   acceptedIDMerkleRoot {\n",
       "     hash: \"\\002>\\357]\\031\\230\\221;y\\301\\371U\\216\\\\t\\240D\\277\\343[n0z\\365\\223\\336\\345\\257\\244\\271\\227D\"\n",
       "   }\n",
       "   utxoCommitment {\n",
       "     hash: \"\\037\\373\\002\\016,\\013duR\\217\\003U]\\302\\216!\\036\\016\\024\\222oy\\027Z\\346\\203\\215\\024\\177j\\210\\374\"\n",
       "   }\n",
       "   timeInMilliseconds: 1640023894928\n",
       "   bits: 470006117\n",
       "   nonce: 7955577500816886258\n",
       "   daaScore: 3489420\n",
       "   blueWork: \"\\004\\006:\\032\\331\\246\\272\\275\"\n",
       "   pruningPoint {\n",
       "     hash: \"r\\305\\t\\253\\216)\\210\\032\\024\\307\\353V\\316\\210h\\310>\\234[\\223N\\337\\362\\260\\230T\\205\\357\\315\\316\\'\\035\"\n",
       "   }\n",
       "   blueScore: 2104897\n",
       " }\n",
       " transactions {\n",
       "   outputs {\n",
       "     value: 50000000000\n",
       "     scriptPublicKey {\n",
       "       script: \" \\370\\3160\\2277\\333o$\\365\\327q\\354\\345\\177\\033Z\\253P\\006-3\\364\\201@s 8o\\260\\354\\375\\037\\254\"\n",
       "     }\n",
       "   }\n",
       "   outputs {\n",
       "     value: 50000000000\n",
       "     scriptPublicKey {\n",
       "       script: \" \\313n\\376\\035\\327nSX\\360\\341\\031\\217p\\226\\363$8E|,qt\\240\\221r\\227cE\\013\\n\\205\\266\\254\"\n",
       "     }\n",
       "   }\n",
       "   subnetworkID {\n",
       "     subnetworkId: \"\\001\\000\\000\\000\\000\\000\\000\\000\\000\\000\\000\\000\\000\\000\\000\\000\\000\\000\\000\\000\"\n",
       "   }\n",
       "   payload: \"A\\036 \\000\\000\\000\\000\\000\\000t;\\244\\013\\000\\000\\000\\000\\000\\\" \\370\\3160\\2277\\333o$\\365\\327q\\354\\345\\177\\033Z\\253P\\006-3\\364\\201@s 8o\\260\\354\\375\\037\\254\"\n",
       " })"
      ]
     },
     "execution_count": 30,
     "metadata": {},
     "output_type": "execute_result"
    }
   ],
   "source": [
    "blocks_bucket = prefix + sep + block_store + sep\n",
    "block_bytes = db.get(blocks_bucket + cpp.hash)\n",
    "b = KaspadDB.DbBlock()\n",
    "b.ParseFromString(block_bytes)\n",
    "\n",
    "payload = b.transactions[0].payload\n",
    "timestamp = b.header.timeInMilliseconds\n",
    "\n",
    "timestamp, payload, b"
   ]
  },
  {
   "cell_type": "code",
   "execution_count": 29,
   "metadata": {},
   "outputs": [
    {
     "data": {
      "text/plain": [
       "(0, 34, '20f8ce309737db6f24f5d771ece57f1b5aab50062d33f481407320386fb0ecfd1fac')"
      ]
     },
     "execution_count": 29,
     "metadata": {},
     "output_type": "execute_result"
    }
   ],
   "source": [
    "uint64Len = 8\n",
    "uint16Len = 2\n",
    "lengthOfSubsidy = uint64Len\n",
    "lengthOfScriptPubKeyLength = 1\n",
    "lengthOfVersionScriptPubKey = uint16Len\n",
    "\n",
    "pubkey_version = payload[uint64Len+lengthOfSubsidy]\n",
    "pubkey_length = payload[uint64Len+lengthOfSubsidy+lengthOfVersionScriptPubKey]\n",
    "pubkey_script = payload[uint64Len+lengthOfSubsidy+lengthOfVersionScriptPubKey+lengthOfScriptPubKeyLength : \n",
    "                        uint64Len+lengthOfSubsidy+lengthOfVersionScriptPubKey+lengthOfScriptPubKeyLength+pubkey_length]\n",
    "\n",
    "pubkey_version, pubkey_length, encode_hash(pubkey_script)"
   ]
  },
  {
   "cell_type": "code",
   "execution_count": 31,
   "metadata": {},
   "outputs": [],
   "source": [
    "db.close()"
   ]
  },
  {
   "cell_type": "code",
   "execution_count": null,
   "metadata": {},
   "outputs": [],
   "source": []
  }
 ],
 "metadata": {
  "kernelspec": {
   "display_name": "Python 3",
   "language": "python",
   "name": "python3"
  },
  "language_info": {
   "codemirror_mode": {
    "name": "ipython",
    "version": 3
   },
   "file_extension": ".py",
   "mimetype": "text/x-python",
   "name": "python",
   "nbconvert_exporter": "python",
   "pygments_lexer": "ipython3",
   "version": "3.6.5"
  }
 },
 "nbformat": 4,
 "nbformat_minor": 2
}
