{
 "cells": [
  {
   "cell_type": "code",
   "execution_count": 1,
   "metadata": {},
   "outputs": [],
   "source": [
    "import os\n",
    "import numpy as np\n",
    "import pandas as pd\n",
    "import matplotlib.pyplot as plt\n",
    "from store import *\n",
    "import kbech32"
   ]
  },
  {
   "cell_type": "code",
   "execution_count": 2,
   "metadata": {},
   "outputs": [],
   "source": [
    "store = Store(os.getenv('localappdata') + r'\\Kaspad\\kaspa-mainnet\\datadir2')"
   ]
  },
  {
   "cell_type": "code",
   "execution_count": 3,
   "metadata": {},
   "outputs": [],
   "source": [
    "store.load_recent_blocks()"
   ]
  },
  {
   "cell_type": "code",
   "execution_count": 4,
   "metadata": {},
   "outputs": [
    {
     "data": {
      "application/vnd.jupyter.widget-view+json": {
       "model_id": "ff8320f128c34d08952dee106d16e6d1",
       "version_major": 2,
       "version_minor": 0
      },
      "text/plain": [
       "  0%|          | 0/3577 [00:00<?, ?it/s]"
      ]
     },
     "metadata": {},
     "output_type": "display_data"
    }
   ],
   "source": [
    "header_fields = ['timeInMilliseconds', 'blueScore', 'blueWork', 'daaScore', 'difficulty']\n",
    "block_fields = ['pubkey_script', 'kaspad_version', 'miner_version']\n",
    "count_fields = [] # ['num_parents', 'num_children', 'num_blues', 'num_reds']\n",
    "frames = store.load_data(header_fields=header_fields, block_fields=block_fields, count_fields=count_fields)"
   ]
  },
  {
   "cell_type": "code",
   "execution_count": 5,
   "metadata": {},
   "outputs": [
    {
     "data": {
      "text/plain": [
       "dict_keys(['hash', 'timeInMilliseconds', 'blueScore', 'blueWork', 'daaScore', 'difficulty', 'pubkey_script', 'kaspad_version', 'miner_version'])"
      ]
     },
     "execution_count": 5,
     "metadata": {},
     "output_type": "execute_result"
    }
   ],
   "source": [
    "frames.keys()"
   ]
  },
  {
   "cell_type": "code",
   "execution_count": 6,
   "metadata": {},
   "outputs": [],
   "source": [
    "df = pd.DataFrame(frames).set_index('hash')"
   ]
  },
  {
   "cell_type": "code",
   "execution_count": 7,
   "metadata": {},
   "outputs": [
    {
     "data": {
      "text/plain": [
       "(1650842599892, 3577)"
      ]
     },
     "execution_count": 7,
     "metadata": {},
     "output_type": "execute_result"
    }
   ],
   "source": [
    "pp_time = store.get_header_data(store.pruning_point()).timeInMilliseconds\n",
    "pp_time, len(df)"
   ]
  },
  {
   "cell_type": "code",
   "execution_count": 8,
   "metadata": {},
   "outputs": [
    {
     "data": {
      "text/plain": [
       "0.12.0     1792\n",
       "0.11.17    1755\n",
       "0.11.16      10\n",
       "0.11.15       7\n",
       "0.11.14       7\n",
       "unknown       6\n",
       "Name: kaspad_version, dtype: int64"
      ]
     },
     "execution_count": 8,
     "metadata": {},
     "output_type": "execute_result"
    }
   ],
   "source": [
    "df['kaspad_version'].value_counts()"
   ]
  },
  {
   "cell_type": "code",
   "execution_count": 9,
   "metadata": {},
   "outputs": [
    {
     "data": {
      "text/plain": [
       "0.11.17/                            0.487559\n",
       "0.12.0/striker                      0.382723\n",
       "0.12.0/ca.acc-pool.pw               0.043332\n",
       "0.12.0/ge.acc-pool.pw               0.026838\n",
       "0.12.0/BzMiner-v8.1.4               0.019849\n",
       "0.12.0/                             0.010344\n",
       "0.12.0/0.2.1-GPU-0.6/2204202326     0.009226\n",
       "0.11.16/0.2.1-GPU-0.5/2204021842    0.002796\n",
       "0.11.15/BzMiner-v8.1.4              0.001957\n",
       "0.11.14/unknown                     0.001957\n",
       "0.11.17/hk.acc-pool.pw              0.001677\n",
       "unknown/unknown                     0.001677\n",
       "0.12.0/0.2.1-GPU-0.5/2204021837     0.001398\n",
       "0.12.0/BzMiner-v9.0.0b4             0.001118\n",
       "0.12.0/0.2.1-GPU-0.5/2204061443     0.000839\n",
       "0.12.0/0.2.1-GPU-0.6/2204202030     0.000839\n",
       "0.12.0/0.2.1-GPU-0.6/2204202324     0.000839\n",
       "0.12.0/0.2.1-GPU-0.5/2204081349     0.000839\n",
       "0.11.17/BzMiner-v8.2.0b1            0.000559\n",
       "0.12.0/BzMiner-v9.0.0               0.000559\n",
       "0.12.0/ru.acc-pool.pw               0.000559\n",
       "0.12.0/0.2.1-GPU-0.6/2204181211     0.000559\n",
       "0.12.0/0.2.1-GPU-0.5/2204021842     0.000280\n",
       "0.12.0/0.2.1-GPU-0.5/2204081340     0.000280\n",
       "0.12.0/0.2.1-GPU-0.5/2204070121     0.000280\n",
       "0.12.0/0.2.1-GPU-0.6/2204202328     0.000280\n",
       "0.11.17/0.2.1-GPU-0.6/2204202030    0.000280\n",
       "0.11.17/0.2.1-GPU-0.5/2204081349    0.000280\n",
       "0.11.17/0.2.1-GPU-0.5/2204021837    0.000280\n",
       "dtype: float64"
      ]
     },
     "execution_count": 9,
     "metadata": {},
     "output_type": "execute_result"
    }
   ],
   "source": [
    "(df['kaspad_version'] + '/' + df['miner_version']).value_counts(normalize=True)"
   ]
  },
  {
   "cell_type": "code",
   "execution_count": 10,
   "metadata": {},
   "outputs": [],
   "source": [
    "# df[\"address\"] = df[\"pubkey_script\"].apply(kbech32.toAddress)"
   ]
  },
  {
   "cell_type": "code",
   "execution_count": 11,
   "metadata": {},
   "outputs": [],
   "source": [
    "store.close()"
   ]
  },
  {
   "cell_type": "code",
   "execution_count": null,
   "metadata": {},
   "outputs": [],
   "source": []
  }
 ],
 "metadata": {
  "kernelspec": {
   "display_name": "Python 3",
   "language": "python",
   "name": "python3"
  },
  "language_info": {
   "codemirror_mode": {
    "name": "ipython",
    "version": 3
   },
   "file_extension": ".py",
   "mimetype": "text/x-python",
   "name": "python",
   "nbconvert_exporter": "python",
   "pygments_lexer": "ipython3",
   "version": "3.6.5"
  }
 },
 "nbformat": 4,
 "nbformat_minor": 2
}
