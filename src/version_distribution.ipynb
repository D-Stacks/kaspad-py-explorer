{
 "cells": [
  {
   "cell_type": "code",
   "execution_count": 1,
   "metadata": {},
   "outputs": [],
   "source": [
    "import os\n",
    "import numpy as np\n",
    "import pandas as pd\n",
    "import matplotlib.pyplot as plt\n",
    "from store import *\n",
    "import kbech32"
   ]
  },
  {
   "cell_type": "code",
   "execution_count": 2,
   "metadata": {},
   "outputs": [],
   "source": [
    "store = Store(os.getenv('localappdata') + r'\\Kaspad\\kaspa-mainnet\\datadir2')"
   ]
  },
  {
   "cell_type": "code",
   "execution_count": 3,
   "metadata": {},
   "outputs": [],
   "source": [
    "store.load_recent_blocks(3600_000)"
   ]
  },
  {
   "cell_type": "code",
   "execution_count": 4,
   "metadata": {},
   "outputs": [
    {
     "data": {
      "application/vnd.jupyter.widget-view+json": {
       "model_id": "d36379b3c96c40b19fac275ea8338149",
       "version_major": 2,
       "version_minor": 0
      },
      "text/plain": [
       "  0%|          | 0/3600 [00:00<?, ?it/s]"
      ]
     },
     "metadata": {},
     "output_type": "display_data"
    }
   ],
   "source": [
    "header_fields = ['timeInMilliseconds', 'blueScore', 'blueWork', 'daaScore', 'difficulty']\n",
    "block_fields = ['pubkey_script', 'kaspad_version', 'miner_version']\n",
    "count_fields = [] # ['num_parents', 'num_children', 'num_blues', 'num_reds']\n",
    "frames = store.load_data(header_fields=header_fields, block_fields=block_fields, count_fields=count_fields)"
   ]
  },
  {
   "cell_type": "code",
   "execution_count": 5,
   "metadata": {},
   "outputs": [
    {
     "data": {
      "text/plain": [
       "dict_keys(['hash', 'timeInMilliseconds', 'blueScore', 'blueWork', 'daaScore', 'difficulty', 'pubkey_script', 'kaspad_version', 'miner_version'])"
      ]
     },
     "execution_count": 5,
     "metadata": {},
     "output_type": "execute_result"
    }
   ],
   "source": [
    "frames.keys()"
   ]
  },
  {
   "cell_type": "code",
   "execution_count": 6,
   "metadata": {},
   "outputs": [],
   "source": [
    "df = pd.DataFrame(frames).set_index('hash')"
   ]
  },
  {
   "cell_type": "code",
   "execution_count": 7,
   "metadata": {},
   "outputs": [
    {
     "data": {
      "text/plain": [
       "(1655592763117, 3600)"
      ]
     },
     "execution_count": 7,
     "metadata": {},
     "output_type": "execute_result"
    }
   ],
   "source": [
    "pp_time = store.get_header_data(store.pruning_point()).timeInMilliseconds\n",
    "pp_time, len(df)"
   ]
  },
  {
   "cell_type": "code",
   "execution_count": 8,
   "metadata": {},
   "outputs": [
    {
     "data": {
      "text/plain": [
       "0.12.2    0.566389\n",
       "0.12.1    0.368056\n",
       "0.12.0    0.065556\n",
       "Name: kaspad_version, dtype: float64"
      ]
     },
     "execution_count": 8,
     "metadata": {},
     "output_type": "execute_result"
    }
   ],
   "source": [
    "df['kaspad_version'].value_counts(normalize=True)"
   ]
  },
  {
   "cell_type": "code",
   "execution_count": 13,
   "metadata": {},
   "outputs": [],
   "source": [
    "def miner_type(miner_version):\n",
    "    if 'BzMiner' in miner_version:\n",
    "        return 'BzMiner'\n",
    "    if '0.2.1-GPU' in miner_version:\n",
    "        return 'CommunityMiner'\n",
    "    return miner_version\n",
    "\n",
    "df[\"miner_type\"] = df[\"miner_version\"].apply(miner_type)"
   ]
  },
  {
   "cell_type": "code",
   "execution_count": 14,
   "metadata": {},
   "outputs": [
    {
     "data": {
      "text/plain": [
       "0.12.2/00                0.507778\n",
       "0.12.1/striker           0.239444\n",
       "0.12.1/ge.acc-pool.pw    0.066389\n",
       "0.12.2/BzMiner           0.050833\n",
       "0.12.1/BzMiner           0.037222\n",
       "0.12.0/ca.acc-pool.pw    0.031389\n",
       "0.12.0/ru.acc-pool.pw    0.023333\n",
       "0.12.1/hk.acc-pool.pw    0.018611\n",
       "0.12.1/CommunityMiner    0.006389\n",
       "0.12.0/BzMiner           0.006389\n",
       "0.12.2/CommunityMiner    0.005556\n",
       "0.12.0/                  0.003056\n",
       "0.12.2/                  0.002222\n",
       "0.12.0/CommunityMiner    0.001389\n",
       "dtype: float64"
      ]
     },
     "execution_count": 14,
     "metadata": {},
     "output_type": "execute_result"
    }
   ],
   "source": [
    "(df['kaspad_version'] + '/' + df['miner_type']).value_counts(normalize=True)"
   ]
  },
  {
   "cell_type": "code",
   "execution_count": 15,
   "metadata": {},
   "outputs": [
    {
     "data": {
      "text/plain": [
       "00                0.507778\n",
       "striker           0.239444\n",
       "BzMiner           0.094444\n",
       "ge.acc-pool.pw    0.066389\n",
       "ca.acc-pool.pw    0.031389\n",
       "ru.acc-pool.pw    0.023333\n",
       "hk.acc-pool.pw    0.018611\n",
       "CommunityMiner    0.013333\n",
       "                  0.005278\n",
       "Name: miner_type, dtype: float64"
      ]
     },
     "execution_count": 15,
     "metadata": {},
     "output_type": "execute_result"
    }
   ],
   "source": [
    "df['miner_type'].value_counts(normalize=True)"
   ]
  },
  {
   "cell_type": "code",
   "execution_count": 12,
   "metadata": {},
   "outputs": [],
   "source": [
    "store.close()"
   ]
  },
  {
   "cell_type": "code",
   "execution_count": null,
   "metadata": {},
   "outputs": [],
   "source": []
  }
 ],
 "metadata": {
  "kernelspec": {
   "display_name": "Python 3",
   "language": "python",
   "name": "python3"
  },
  "language_info": {
   "codemirror_mode": {
    "name": "ipython",
    "version": 3
   },
   "file_extension": ".py",
   "mimetype": "text/x-python",
   "name": "python",
   "nbconvert_exporter": "python",
   "pygments_lexer": "ipython3",
   "version": "3.6.5"
  }
 },
 "nbformat": 4,
 "nbformat_minor": 2
}
