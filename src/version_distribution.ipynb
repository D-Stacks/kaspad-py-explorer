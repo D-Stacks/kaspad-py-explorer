{
 "cells": [
  {
   "cell_type": "code",
   "execution_count": 1,
   "metadata": {},
   "outputs": [],
   "source": [
    "import os\n",
    "import numpy as np\n",
    "import pandas as pd\n",
    "import matplotlib.pyplot as plt\n",
    "from store import *\n",
    "import kbech32"
   ]
  },
  {
   "cell_type": "code",
   "execution_count": 2,
   "metadata": {},
   "outputs": [
    {
     "name": "stdout",
     "output_type": "stream",
     "text": [
      "Pruning point:  bb7cdefbb7bd87a2958ee366266658a2911026d188e2d484cdb7b392c2579ff6\n",
      "Loaded 40000 blocks\n",
      "Loaded 80000 blocks\n",
      "Loaded 120000 blocks\n",
      "Loaded 160000 blocks\n",
      "Loaded 200000 blocks\n",
      "Loaded 240000 blocks\n",
      "Overall number of headers:  244752\n"
     ]
    }
   ],
   "source": [
    "store = Store(os.getenv('localappdata') + r'\\Kaspad\\kaspa-mainnet\\datadir2')\n",
    "store.load_blocks()"
   ]
  },
  {
   "cell_type": "code",
   "execution_count": 3,
   "metadata": {},
   "outputs": [
    {
     "data": {
      "application/vnd.jupyter.widget-view+json": {
       "model_id": "3c4de0f24992462ca42b310b8be22ce7",
       "version_major": 2,
       "version_minor": 0
      },
      "text/plain": [
       "  0%|          | 0/244752 [00:00<?, ?it/s]"
      ]
     },
     "metadata": {},
     "output_type": "display_data"
    },
    {
     "name": "stdout",
     "output_type": "stream",
     "text": [
      "Number of headers missing header data:  1\n",
      "Number of blocks missing block data:  1\n"
     ]
    }
   ],
   "source": [
    "header_fields = ['timeInMilliseconds', 'blueScore', 'blueWork', 'daaScore', 'difficulty']\n",
    "block_fields = ['pubkey_script', 'kaspad_version', 'miner_version']\n",
    "count_fields = [] # ['num_parents', 'num_children', 'num_blues', 'num_reds']\n",
    "frames = store.load_data(header_fields=header_fields, block_fields=block_fields, count_fields=count_fields)"
   ]
  },
  {
   "cell_type": "code",
   "execution_count": 4,
   "metadata": {},
   "outputs": [
    {
     "data": {
      "text/plain": [
       "dict_keys(['hash', 'timeInMilliseconds', 'blueScore', 'blueWork', 'daaScore', 'difficulty', 'pubkey_script', 'kaspad_version', 'miner_version'])"
      ]
     },
     "execution_count": 4,
     "metadata": {},
     "output_type": "execute_result"
    }
   ],
   "source": [
    "frames.keys()"
   ]
  },
  {
   "cell_type": "code",
   "execution_count": 5,
   "metadata": {},
   "outputs": [],
   "source": [
    "df = pd.DataFrame(frames).set_index('hash')"
   ]
  },
  {
   "cell_type": "code",
   "execution_count": 6,
   "metadata": {},
   "outputs": [
    {
     "data": {
      "text/plain": [
       "1650151162040"
      ]
     },
     "execution_count": 6,
     "metadata": {},
     "output_type": "execute_result"
    }
   ],
   "source": [
    "pp_time = store.get_header_data(store.pruning_point()).timeInMilliseconds\n",
    "pp_time"
   ]
  },
  {
   "cell_type": "code",
   "execution_count": 7,
   "metadata": {},
   "outputs": [],
   "source": [
    "df[\"address\"] = df[\"pubkey_script\"].apply(kbech32.toAddress)"
   ]
  },
  {
   "cell_type": "code",
   "execution_count": 8,
   "metadata": {},
   "outputs": [
    {
     "data": {
      "text/plain": [
       "0.11.17    143391\n",
       "0.11.14     63442\n",
       "0.12.0      29299\n",
       "0.11.15      7505\n",
       "0.11.16       626\n",
       "unknown       480\n",
       "0.11.13         8\n",
       "Name: kaspad_version, dtype: int64"
      ]
     },
     "execution_count": 8,
     "metadata": {},
     "output_type": "execute_result"
    }
   ],
   "source": [
    "df['kaspad_version'].value_counts()"
   ]
  },
  {
   "cell_type": "code",
   "execution_count": 9,
   "metadata": {},
   "outputs": [
    {
     "data": {
      "text/plain": [
       "82204"
      ]
     },
     "execution_count": 9,
     "metadata": {},
     "output_type": "execute_result"
    }
   ],
   "source": [
    "time_filter = df['timeInMilliseconds'] > pp_time + 160000*1000\n",
    "np.sum(time_filter)"
   ]
  },
  {
   "cell_type": "code",
   "execution_count": 10,
   "metadata": {},
   "outputs": [
    {
     "data": {
      "text/plain": [
       "0.11.17    69422\n",
       "0.12.0     11265\n",
       "0.11.15      982\n",
       "0.11.16      221\n",
       "unknown      163\n",
       "0.11.14      150\n",
       "0.11.13        1\n",
       "Name: kaspad_version, dtype: int64"
      ]
     },
     "execution_count": 10,
     "metadata": {},
     "output_type": "execute_result"
    }
   ],
   "source": [
    "df[time_filter]['kaspad_version'].value_counts()"
   ]
  },
  {
   "cell_type": "code",
   "execution_count": 11,
   "metadata": {},
   "outputs": [
    {
     "data": {
      "text/plain": [
       "                                43007\n",
       "eu2.acc-pool.pw                 27032\n",
       "ge.acc-pool.pw                   5835\n",
       "BzMiner-v8.1.4                   1932\n",
       "ca.acc-pool.pw                   1907\n",
       "0.2.1-GPU-0.5/2204021842          755\n",
       "ru.acc-pool.pw                    495\n",
       "unknown                           314\n",
       "hk.acc-pool.pw                    286\n",
       "0.2.1-GPU-0.5/2204021837          238\n",
       "BzMiner-v8.2.0b1                  125\n",
       "0.2.1-GPU-0.5/2204081349          122\n",
       "0.2.1-GPU-0.5/2204070122           49\n",
       "0.2.1-GPU-0.5-rc1/2204092029       44\n",
       "0.2.1-GPU-0.5/2204081340           17\n",
       "0.2.1-GPU-0.5/2204061443           16\n",
       "0.2.1-GPU-0.6/2204181211           13\n",
       "0.2.1-GPU-0.6/2204121204            9\n",
       "0.2.1-GPU-0.5/2204070121            8\n",
       "Name: miner_version, dtype: int64"
      ]
     },
     "execution_count": 11,
     "metadata": {},
     "output_type": "execute_result"
    }
   ],
   "source": [
    "df[time_filter]['miner_version'].value_counts()"
   ]
  },
  {
   "cell_type": "code",
   "execution_count": 13,
   "metadata": {},
   "outputs": [
    {
     "data": {
      "text/plain": [
       "0.11.17/                               41914\n",
       "0.11.17/eu2.acc-pool.pw                27032\n",
       "0.12.0/ge.acc-pool.pw                   5835\n",
       "0.12.0/BzMiner-v8.1.4                   1587\n",
       "0.12.0/ca.acc-pool.pw                   1134\n",
       "0.12.0/                                 1093\n",
       "0.11.15/ca.acc-pool.pw                   773\n",
       "0.12.0/0.2.1-GPU-0.5/2204021842          538\n",
       "0.12.0/ru.acc-pool.pw                    495\n",
       "0.11.17/hk.acc-pool.pw                   286\n",
       "0.11.16/0.2.1-GPU-0.5/2204021842         211\n",
       "0.11.15/BzMiner-v8.1.4                   203\n",
       "0.12.0/0.2.1-GPU-0.5/2204021837          196\n",
       "unknown/unknown                          163\n",
       "0.11.14/unknown                          150\n",
       "0.11.17/BzMiner-v8.1.4                   132\n",
       "0.12.0/0.2.1-GPU-0.5/2204081349          121\n",
       "0.12.0/BzMiner-v8.2.0b1                  110\n",
       "0.12.0/0.2.1-GPU-0.5/2204070122           49\n",
       "0.12.0/0.2.1-GPU-0.5-rc1/2204092029       44\n",
       "0.11.17/0.2.1-GPU-0.5/2204021837          42\n",
       "0.12.0/0.2.1-GPU-0.5/2204081340           17\n",
       "0.12.0/0.2.1-GPU-0.5/2204061443           16\n",
       "0.11.17/BzMiner-v8.2.0b1                  15\n",
       "0.12.0/0.2.1-GPU-0.6/2204181211           13\n",
       "0.11.16/BzMiner-v8.1.4                    10\n",
       "0.12.0/0.2.1-GPU-0.6/2204121204            9\n",
       "0.12.0/0.2.1-GPU-0.5/2204070121            8\n",
       "0.11.15/0.2.1-GPU-0.5/2204021842           6\n",
       "0.11.13/unknown                            1\n",
       "0.11.17/0.2.1-GPU-0.5/2204081349           1\n",
       "dtype: int64"
      ]
     },
     "execution_count": 13,
     "metadata": {},
     "output_type": "execute_result"
    }
   ],
   "source": [
    "(df[time_filter]['kaspad_version'] + '/' + df[time_filter]['miner_version']).value_counts()"
   ]
  },
  {
   "cell_type": "code",
   "execution_count": 14,
   "metadata": {},
   "outputs": [],
   "source": [
    "# store.close()"
   ]
  },
  {
   "cell_type": "code",
   "execution_count": null,
   "metadata": {},
   "outputs": [],
   "source": []
  }
 ],
 "metadata": {
  "kernelspec": {
   "display_name": "Python 3",
   "language": "python",
   "name": "python3"
  },
  "language_info": {
   "codemirror_mode": {
    "name": "ipython",
    "version": 3
   },
   "file_extension": ".py",
   "mimetype": "text/x-python",
   "name": "python",
   "nbconvert_exporter": "python",
   "pygments_lexer": "ipython3",
   "version": "3.6.5"
  }
 },
 "nbformat": 4,
 "nbformat_minor": 2
}
